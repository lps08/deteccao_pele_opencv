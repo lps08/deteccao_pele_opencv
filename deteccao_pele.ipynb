{
 "cells": [
  {
   "cell_type": "code",
   "execution_count": 5,
   "metadata": {},
   "outputs": [],
   "source": [
    "import cv2\n",
    "import numpy as np"
   ]
  },
  {
   "cell_type": "code",
   "execution_count": 6,
   "metadata": {},
   "outputs": [],
   "source": [
    "def preProcessing(img, peleMin, peleMax):\n",
    "    # Convertendo imagem para o tipo de color passado como parâmetro\n",
    "    imagemConvertida = cv2.cvtColor(img, cv2.COLOR_BGR2HSV)\n",
    "    # aplica os niveis minimo e maximo de cor definido\n",
    "    peleMascara = cv2.inRange(imagemConvertida, peleMin, peleMax)\n",
    "\n",
    "    # aplicando erosão e dilatação na mascara, usando kernel elíptico\n",
    "    # para melhor desempenho na aplicação da mascara na pele\n",
    "    kernel = cv2.getStructuringElement(cv2.MORPH_ELLIPSE, (11, 11))\n",
    "    peleMascara = cv2.erode(peleMascara, kernel, iterations = 2)\n",
    "    peleMascara = cv2.dilate(peleMascara, kernel, iterations = 2)\n",
    "\n",
    "    # Aplicando o filtro blur para tirar o ruido da mascara\n",
    "    peleMascara = cv2.GaussianBlur(peleMascara, (3, 3), 0)\n",
    "    \n",
    "    # aplicando a mascara na imagem para pegar somente a zona de interesse\n",
    "    pele = cv2.bitwise_and(img, img, mask = peleMascara)\n",
    "\n",
    "    return np.hstack([img, pele])"
   ]
  },
  {
   "cell_type": "code",
   "execution_count": 7,
   "metadata": {},
   "outputs": [],
   "source": [
    "img = cv2.imread('paolla.jpg')"
   ]
  },
  {
   "cell_type": "code",
   "execution_count": 8,
   "metadata": {},
   "outputs": [],
   "source": [
    "imgProcessada = preProcessing(img=img, peleMin= np.array([0, 48, 80], dtype='uint8'), peleMax= np.array([20, 255, 255], dtype='uint8'))"
   ]
  },
  {
   "cell_type": "code",
   "execution_count": 9,
   "metadata": {},
   "outputs": [
    {
     "data": {
      "text/plain": [
       "-1"
      ]
     },
     "execution_count": 9,
     "metadata": {},
     "output_type": "execute_result"
    }
   ],
   "source": [
    "cv2.imshow('mask', imgProcessada)\n",
    "cv2.waitKey(0)"
   ]
  },
  {
   "cell_type": "code",
   "execution_count": null,
   "metadata": {},
   "outputs": [],
   "source": []
  }
 ],
 "metadata": {
  "interpreter": {
   "hash": "2fe8837ebdb742e2494079c0ea10c808bc34ff06d27aa413b3464559f2c1d91d"
  },
  "kernelspec": {
   "display_name": "Python 3",
   "language": "python",
   "name": "python3"
  },
  "language_info": {
   "codemirror_mode": {
    "name": "ipython",
    "version": 3
   },
   "file_extension": ".py",
   "mimetype": "text/x-python",
   "name": "python",
   "nbconvert_exporter": "python",
   "pygments_lexer": "ipython3",
   "version": "3.8.11"
  }
 },
 "nbformat": 4,
 "nbformat_minor": 2
}
